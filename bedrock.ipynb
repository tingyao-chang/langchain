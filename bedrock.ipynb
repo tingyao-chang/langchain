{
 "cells": [
  {
   "cell_type": "markdown",
   "id": "103815ba-d1f1-40b4-8e0d-eeee7cd9951e",
   "metadata": {},
   "source": [
    "# Chat Models\n",
    "## Bedrock Chat\n",
    "https://python.langchain.com/docs/integrations/chat/bedrock"
   ]
  },
  {
   "cell_type": "code",
   "execution_count": null,
   "id": "ff710b0f-a402-4892-a24c-2826d8e86b8b",
   "metadata": {},
   "outputs": [],
   "source": [
    "%pip install --upgrade --quiet  boto3"
   ]
  },
  {
   "cell_type": "code",
   "execution_count": null,
   "id": "106f3337-f7e6-49dd-b7ad-fe4529c9c2b1",
   "metadata": {},
   "outputs": [],
   "source": [
    "from langchain.schema import HumanMessage\n",
    "from langchain_community.chat_models import BedrockChat"
   ]
  },
  {
   "cell_type": "code",
   "execution_count": null,
   "id": "17ef538d-4ac3-429b-aa02-14f6bcdd3bbf",
   "metadata": {},
   "outputs": [],
   "source": [
    "chat = BedrockChat(model_id=\"anthropic.claude-v2\", model_kwargs={\"temperature\": 0.1})"
   ]
  },
  {
   "cell_type": "code",
   "execution_count": null,
   "id": "156ca73d-36e0-4c65-90bc-6e01ea921e73",
   "metadata": {},
   "outputs": [],
   "source": [
    "messages = [\n",
    "    HumanMessage(\n",
    "        content=\"Translate this sentence from English to French. I love programming.\"\n",
    "    )\n",
    "]\n",
    "chat(messages)"
   ]
  },
  {
   "cell_type": "markdown",
   "id": "bcc5b6b5-6b20-43a9-a6bb-e0132f70e572",
   "metadata": {},
   "source": [
    "### For BedrockChat with Streaming"
   ]
  },
  {
   "cell_type": "code",
   "execution_count": null,
   "id": "d0751e98-8483-4a80-bdcf-07b9e7222fee",
   "metadata": {},
   "outputs": [],
   "source": [
    "from langchain.callbacks.streaming_stdout import StreamingStdOutCallbackHandler\n",
    "\n",
    "chat = BedrockChat(\n",
    "    model_id=\"anthropic.claude-v2\",\n",
    "    streaming=True,\n",
    "    callbacks=[StreamingStdOutCallbackHandler()],\n",
    "    model_kwargs={\"temperature\": 0.1},\n",
    ")"
   ]
  },
  {
   "cell_type": "code",
   "execution_count": null,
   "id": "638beaf3-0e34-4c28-bf56-c04ddc857340",
   "metadata": {},
   "outputs": [],
   "source": [
    "messages = [\n",
    "    HumanMessage(\n",
    "        content=\"Translate this sentence from English to French. I love programming.\"\n",
    "    )\n",
    "]\n",
    "chat(messages)"
   ]
  },
  {
   "cell_type": "markdown",
   "id": "6aa6cb86-9068-416c-b6df-f527f46bcd52",
   "metadata": {},
   "source": [
    "# Text Embedding Models\n",
    "## Bedrock\n",
    "https://python.langchain.com/docs/integrations/text_embedding/bedrock"
   ]
  },
  {
   "cell_type": "code",
   "execution_count": null,
   "id": "8937e9b6-e7e2-4c6a-9d9f-0caeb570f396",
   "metadata": {},
   "outputs": [],
   "source": [
    "%pip install --upgrade --quiet  boto3"
   ]
  },
  {
   "cell_type": "code",
   "execution_count": null,
   "id": "3a993b8d-c29f-49ec-9393-a60908e66fbe",
   "metadata": {},
   "outputs": [],
   "source": [
    "from langchain_community.embeddings import BedrockEmbeddings\n",
    "\n",
    "embeddings = BedrockEmbeddings()"
   ]
  },
  {
   "cell_type": "code",
   "execution_count": null,
   "id": "4a2e2b8a-961f-43fb-b083-e954168e84bb",
   "metadata": {},
   "outputs": [],
   "source": [
    "embeddings.embed_query(\"This is a content of the document\")"
   ]
  },
  {
   "cell_type": "code",
   "execution_count": null,
   "id": "37e7424a-c099-46ed-b886-1a818525bca7",
   "metadata": {},
   "outputs": [],
   "source": [
    "embeddings.embed_documents(\n",
    "    [\"This is a content of the document\", \"This is another document\"]\n",
    ")"
   ]
  },
  {
   "cell_type": "code",
   "execution_count": null,
   "id": "61c09f43-2a68-4ac1-8eba-2f638d7d53a5",
   "metadata": {},
   "outputs": [],
   "source": [
    "# async embed query\n",
    "await embeddings.aembed_query(\"This is a content of the document\")"
   ]
  },
  {
   "cell_type": "code",
   "execution_count": null,
   "id": "8d1ca9f9-d83a-4e11-9fe4-bd6ed5a700cc",
   "metadata": {},
   "outputs": [],
   "source": [
    "# async embed documents\n",
    "await embeddings.aembed_documents(\n",
    "    [\"This is a content of the document\", \"This is another document\"]\n",
    ")"
   ]
  }
 ],
 "metadata": {
  "kernelspec": {
   "display_name": "Python 3 (ipykernel)",
   "language": "python",
   "name": "python3"
  },
  "language_info": {
   "codemirror_mode": {
    "name": "ipython",
    "version": 3
   },
   "file_extension": ".py",
   "mimetype": "text/x-python",
   "name": "python",
   "nbconvert_exporter": "python",
   "pygments_lexer": "ipython3",
   "version": "3.10.13"
  }
 },
 "nbformat": 4,
 "nbformat_minor": 5
}
